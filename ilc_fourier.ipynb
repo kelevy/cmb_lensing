{
 "cells": [
  {
   "cell_type": "code",
   "execution_count": 1,
   "metadata": {},
   "outputs": [
    {
     "ename": "KeyboardInterrupt",
     "evalue": "",
     "output_type": "error",
     "traceback": [
      "\u001b[0;31m---------------------------------------------------------------------------\u001b[0m",
      "\u001b[0;31mKeyboardInterrupt\u001b[0m                         Traceback (most recent call last)",
      "\u001b[0;32m<ipython-input-1-3b43db7aa8cb>\u001b[0m in \u001b[0;36m<module>\u001b[0;34m\u001b[0m\n\u001b[1;32m      1\u001b[0m \u001b[0;32mimport\u001b[0m \u001b[0mnumpy\u001b[0m \u001b[0;32mas\u001b[0m \u001b[0mnp\u001b[0m\u001b[0;34m\u001b[0m\u001b[0;34m\u001b[0m\u001b[0m\n\u001b[0;32m----> 2\u001b[0;31m \u001b[0;32mimport\u001b[0m \u001b[0mmatplotlib\u001b[0m\u001b[0;34m.\u001b[0m\u001b[0mpyplot\u001b[0m \u001b[0;32mas\u001b[0m \u001b[0mplt\u001b[0m\u001b[0;34m\u001b[0m\u001b[0;34m\u001b[0m\u001b[0m\n\u001b[0m\u001b[1;32m      3\u001b[0m \u001b[0;32mimport\u001b[0m \u001b[0mmatplotlib\u001b[0m\u001b[0;34m.\u001b[0m\u001b[0mcm\u001b[0m \u001b[0;32mas\u001b[0m \u001b[0mcm\u001b[0m\u001b[0;34m\u001b[0m\u001b[0;34m\u001b[0m\u001b[0m\n\u001b[1;32m      4\u001b[0m \u001b[0;32mimport\u001b[0m \u001b[0mforegrounds\u001b[0m \u001b[0;32mas\u001b[0m \u001b[0mfg\u001b[0m\u001b[0;34m\u001b[0m\u001b[0;34m\u001b[0m\u001b[0m\n\u001b[1;32m      5\u001b[0m \u001b[0;32mimport\u001b[0m \u001b[0mexperiments\u001b[0m \u001b[0;32mas\u001b[0m \u001b[0mexp\u001b[0m\u001b[0;34m\u001b[0m\u001b[0;34m\u001b[0m\u001b[0m\n",
      "\u001b[0;32m~/opt/anaconda3/lib/python3.7/site-packages/matplotlib/pyplot.py\u001b[0m in \u001b[0;36m<module>\u001b[0;34m\u001b[0m\n\u001b[1;32m     34\u001b[0m \u001b[0;32mfrom\u001b[0m \u001b[0mcycler\u001b[0m \u001b[0;32mimport\u001b[0m \u001b[0mcycler\u001b[0m\u001b[0;34m\u001b[0m\u001b[0;34m\u001b[0m\u001b[0m\n\u001b[1;32m     35\u001b[0m \u001b[0;32mimport\u001b[0m \u001b[0mmatplotlib\u001b[0m\u001b[0;34m\u001b[0m\u001b[0;34m\u001b[0m\u001b[0m\n\u001b[0;32m---> 36\u001b[0;31m \u001b[0;32mimport\u001b[0m \u001b[0mmatplotlib\u001b[0m\u001b[0;34m.\u001b[0m\u001b[0mcolorbar\u001b[0m\u001b[0;34m\u001b[0m\u001b[0;34m\u001b[0m\u001b[0m\n\u001b[0m\u001b[1;32m     37\u001b[0m \u001b[0;32mimport\u001b[0m \u001b[0mmatplotlib\u001b[0m\u001b[0;34m.\u001b[0m\u001b[0mimage\u001b[0m\u001b[0;34m\u001b[0m\u001b[0;34m\u001b[0m\u001b[0m\n\u001b[1;32m     38\u001b[0m \u001b[0;32mfrom\u001b[0m \u001b[0mmatplotlib\u001b[0m \u001b[0;32mimport\u001b[0m \u001b[0mrcsetup\u001b[0m\u001b[0;34m,\u001b[0m \u001b[0mstyle\u001b[0m\u001b[0;34m\u001b[0m\u001b[0;34m\u001b[0m\u001b[0m\n",
      "\u001b[0;32m~/opt/anaconda3/lib/python3.7/site-packages/matplotlib/colorbar.py\u001b[0m in \u001b[0;36m<module>\u001b[0;34m\u001b[0m\n\u001b[1;32m     42\u001b[0m \u001b[0;32mimport\u001b[0m \u001b[0mmatplotlib\u001b[0m\u001b[0;34m.\u001b[0m\u001b[0mcollections\u001b[0m \u001b[0;32mas\u001b[0m \u001b[0mcollections\u001b[0m\u001b[0;34m\u001b[0m\u001b[0;34m\u001b[0m\u001b[0m\n\u001b[1;32m     43\u001b[0m \u001b[0;32mimport\u001b[0m \u001b[0mmatplotlib\u001b[0m\u001b[0;34m.\u001b[0m\u001b[0mcolors\u001b[0m \u001b[0;32mas\u001b[0m \u001b[0mcolors\u001b[0m\u001b[0;34m\u001b[0m\u001b[0;34m\u001b[0m\u001b[0m\n\u001b[0;32m---> 44\u001b[0;31m \u001b[0;32mimport\u001b[0m \u001b[0mmatplotlib\u001b[0m\u001b[0;34m.\u001b[0m\u001b[0mcontour\u001b[0m \u001b[0;32mas\u001b[0m \u001b[0mcontour\u001b[0m\u001b[0;34m\u001b[0m\u001b[0;34m\u001b[0m\u001b[0m\n\u001b[0m\u001b[1;32m     45\u001b[0m \u001b[0;32mimport\u001b[0m \u001b[0mmatplotlib\u001b[0m\u001b[0;34m.\u001b[0m\u001b[0mcm\u001b[0m \u001b[0;32mas\u001b[0m \u001b[0mcm\u001b[0m\u001b[0;34m\u001b[0m\u001b[0;34m\u001b[0m\u001b[0m\n\u001b[1;32m     46\u001b[0m \u001b[0;32mimport\u001b[0m \u001b[0mmatplotlib\u001b[0m\u001b[0;34m.\u001b[0m\u001b[0mgridspec\u001b[0m \u001b[0;32mas\u001b[0m \u001b[0mgridspec\u001b[0m\u001b[0;34m\u001b[0m\u001b[0;34m\u001b[0m\u001b[0m\n",
      "\u001b[0;32m~/opt/anaconda3/lib/python3.7/site-packages/matplotlib/contour.py\u001b[0m in \u001b[0;36m<module>\u001b[0;34m\u001b[0m\n\u001b[1;32m     15\u001b[0m \u001b[0;32mimport\u001b[0m \u001b[0mmatplotlib\u001b[0m\u001b[0;34m.\u001b[0m\u001b[0mcollections\u001b[0m \u001b[0;32mas\u001b[0m \u001b[0mmcoll\u001b[0m\u001b[0;34m\u001b[0m\u001b[0;34m\u001b[0m\u001b[0m\n\u001b[1;32m     16\u001b[0m \u001b[0;32mimport\u001b[0m \u001b[0mmatplotlib\u001b[0m\u001b[0;34m.\u001b[0m\u001b[0mfont_manager\u001b[0m \u001b[0;32mas\u001b[0m \u001b[0mfont_manager\u001b[0m\u001b[0;34m\u001b[0m\u001b[0;34m\u001b[0m\u001b[0m\n\u001b[0;32m---> 17\u001b[0;31m \u001b[0;32mimport\u001b[0m \u001b[0mmatplotlib\u001b[0m\u001b[0;34m.\u001b[0m\u001b[0mtext\u001b[0m \u001b[0;32mas\u001b[0m \u001b[0mtext\u001b[0m\u001b[0;34m\u001b[0m\u001b[0;34m\u001b[0m\u001b[0m\n\u001b[0m\u001b[1;32m     18\u001b[0m \u001b[0;32mimport\u001b[0m \u001b[0mmatplotlib\u001b[0m\u001b[0;34m.\u001b[0m\u001b[0mcbook\u001b[0m \u001b[0;32mas\u001b[0m \u001b[0mcbook\u001b[0m\u001b[0;34m\u001b[0m\u001b[0;34m\u001b[0m\u001b[0m\n\u001b[1;32m     19\u001b[0m \u001b[0;32mimport\u001b[0m \u001b[0mmatplotlib\u001b[0m\u001b[0;34m.\u001b[0m\u001b[0mmathtext\u001b[0m \u001b[0;32mas\u001b[0m \u001b[0mmathtext\u001b[0m\u001b[0;34m\u001b[0m\u001b[0;34m\u001b[0m\u001b[0m\n",
      "\u001b[0;32m~/opt/anaconda3/lib/python3.7/site-packages/matplotlib/text.py\u001b[0m in \u001b[0;36m<module>\u001b[0;34m\u001b[0m\n\u001b[1;32m     14\u001b[0m \u001b[0;32mfrom\u001b[0m \u001b[0;34m.\u001b[0m\u001b[0mfont_manager\u001b[0m \u001b[0;32mimport\u001b[0m \u001b[0mFontProperties\u001b[0m\u001b[0;34m\u001b[0m\u001b[0;34m\u001b[0m\u001b[0m\n\u001b[1;32m     15\u001b[0m \u001b[0;32mfrom\u001b[0m \u001b[0;34m.\u001b[0m\u001b[0mpatches\u001b[0m \u001b[0;32mimport\u001b[0m \u001b[0mFancyArrowPatch\u001b[0m\u001b[0;34m,\u001b[0m \u001b[0mFancyBboxPatch\u001b[0m\u001b[0;34m,\u001b[0m \u001b[0mRectangle\u001b[0m\u001b[0;34m\u001b[0m\u001b[0;34m\u001b[0m\u001b[0m\n\u001b[0;32m---> 16\u001b[0;31m \u001b[0;32mfrom\u001b[0m \u001b[0;34m.\u001b[0m\u001b[0mtextpath\u001b[0m \u001b[0;32mimport\u001b[0m \u001b[0mTextPath\u001b[0m  \u001b[0;31m# Unused, but imported by others.\u001b[0m\u001b[0;34m\u001b[0m\u001b[0;34m\u001b[0m\u001b[0m\n\u001b[0m\u001b[1;32m     17\u001b[0m from .transforms import (\n\u001b[1;32m     18\u001b[0m     Affine2D, Bbox, BboxBase, BboxTransformTo, IdentityTransform, Transform)\n",
      "\u001b[0;32m~/opt/anaconda3/lib/python3.7/site-packages/matplotlib/textpath.py\u001b[0m in \u001b[0;36m<module>\u001b[0;34m\u001b[0m\n\u001b[1;32m      9\u001b[0m \u001b[0;32mfrom\u001b[0m \u001b[0mmatplotlib\u001b[0m\u001b[0;34m.\u001b[0m\u001b[0mfont_manager\u001b[0m \u001b[0;32mimport\u001b[0m \u001b[0mFontProperties\u001b[0m\u001b[0;34m,\u001b[0m \u001b[0mget_font\u001b[0m\u001b[0;34m\u001b[0m\u001b[0;34m\u001b[0m\u001b[0m\n\u001b[1;32m     10\u001b[0m \u001b[0;32mfrom\u001b[0m \u001b[0mmatplotlib\u001b[0m\u001b[0;34m.\u001b[0m\u001b[0mft2font\u001b[0m \u001b[0;32mimport\u001b[0m \u001b[0mLOAD_NO_HINTING\u001b[0m\u001b[0;34m,\u001b[0m \u001b[0mLOAD_TARGET_LIGHT\u001b[0m\u001b[0;34m\u001b[0m\u001b[0;34m\u001b[0m\u001b[0m\n\u001b[0;32m---> 11\u001b[0;31m \u001b[0;32mfrom\u001b[0m \u001b[0mmatplotlib\u001b[0m\u001b[0;34m.\u001b[0m\u001b[0mmathtext\u001b[0m \u001b[0;32mimport\u001b[0m \u001b[0mMathTextParser\u001b[0m\u001b[0;34m\u001b[0m\u001b[0;34m\u001b[0m\u001b[0m\n\u001b[0m\u001b[1;32m     12\u001b[0m \u001b[0;32mfrom\u001b[0m \u001b[0mmatplotlib\u001b[0m\u001b[0;34m.\u001b[0m\u001b[0mpath\u001b[0m \u001b[0;32mimport\u001b[0m \u001b[0mPath\u001b[0m\u001b[0;34m\u001b[0m\u001b[0;34m\u001b[0m\u001b[0m\n\u001b[1;32m     13\u001b[0m \u001b[0;32mfrom\u001b[0m \u001b[0mmatplotlib\u001b[0m\u001b[0;34m.\u001b[0m\u001b[0mtransforms\u001b[0m \u001b[0;32mimport\u001b[0m \u001b[0mAffine2D\u001b[0m\u001b[0;34m\u001b[0m\u001b[0;34m\u001b[0m\u001b[0m\n",
      "\u001b[0;32m~/opt/anaconda3/lib/python3.7/site-packages/matplotlib/mathtext.py\u001b[0m in \u001b[0;36m<module>\u001b[0;34m\u001b[0m\n\u001b[1;32m   1296\u001b[0m \u001b[0;34m\u001b[0m\u001b[0m\n\u001b[1;32m   1297\u001b[0m \u001b[0;34m\u001b[0m\u001b[0m\n\u001b[0;32m-> 1298\u001b[0;31m \u001b[0;32mclass\u001b[0m \u001b[0mComputerModernFontConstants\u001b[0m\u001b[0;34m(\u001b[0m\u001b[0mFontConstantsBase\u001b[0m\u001b[0;34m)\u001b[0m\u001b[0;34m:\u001b[0m\u001b[0;34m\u001b[0m\u001b[0;34m\u001b[0m\u001b[0m\n\u001b[0m\u001b[1;32m   1299\u001b[0m     \u001b[0mscript_space\u001b[0m \u001b[0;34m=\u001b[0m \u001b[0;36m0.075\u001b[0m\u001b[0;34m\u001b[0m\u001b[0;34m\u001b[0m\u001b[0m\n\u001b[1;32m   1300\u001b[0m     \u001b[0msubdrop\u001b[0m \u001b[0;34m=\u001b[0m \u001b[0;36m0.2\u001b[0m\u001b[0;34m\u001b[0m\u001b[0;34m\u001b[0m\u001b[0m\n",
      "\u001b[0;31mKeyboardInterrupt\u001b[0m: "
     ]
    }
   ],
   "source": [
    "import numpy as np\n",
    "import matplotlib.pyplot as plt\n",
    "import matplotlib.cm as cm\n",
    "import foregrounds as fg\n",
    "import experiments as exp\n",
    "from cosmo import CosmoCalc\n",
    "import hlc"
   ]
  },
  {
   "cell_type": "code",
   "execution_count": null,
   "metadata": {},
   "outputs": [],
   "source": [
    "components = ['radio', 'cib', 'tsz', 'tsz_cib']\n",
    "experiment = 's4wide'\n",
    "l, cl_residual, res_ilc_dic, weights = hlc.residuals_and_weights(components = components, experiment = experiment)"
   ]
  },
  {
   "cell_type": "code",
   "execution_count": null,
   "metadata": {},
   "outputs": [],
   "source": [
    "plt.plot(l, weights[0], label = '27 GHz', color = 'violet')\n",
    "plt.plot(l, weights[1], label = '39 GHz', color = 'orange')\n",
    "plt.plot(l, weights[2], label = '93 GHz', color = 'blue')\n",
    "plt.plot(l, weights[3], label = '145 GHz', color = 'magenta')\n",
    "plt.plot(l, weights[4], label = '225 GHz', color = 'brown')\n",
    "plt.plot(l, weights[5], label = '278 GHz', color = 'deepskyblue')\n",
    "tot = np.asarray(weights[0])+np.asarray(weights[1])+np.asarray(weights[2])+np.asarray(weights[3])+np.asarray(weights[4])+np.asarray(weights[5])\n",
    "plt.plot(l, tot, label = 'Sum', color = 'green', ls = '--')\n",
    "plt.xlim(0, 5000)\n",
    "plt.ylim(-1., 2.)\n",
    "plt.legend(ncol=4)"
   ]
  },
  {
   "cell_type": "code",
   "execution_count": null,
   "metadata": {},
   "outputs": [],
   "source": [
    "l, cl = CosmoCalc().cmb_power_spectrum()\n",
    "l, cl_ksz = fg.get_foreground_power_spt('kSZ')\n",
    "plt.subplot(xscale = 'log', yscale = 'log')\n",
    "plt.plot(l, cl, label = 'CMB', color = 'red')\n",
    "plt.plot(l, cl_residual, label = 'Residual', color = 'blue')\n",
    "plt.plot(l, cl+cl_residual, label = 'Total', color = 'black', ls = '--')\n",
    "plt.xlim(100, 10000)\n",
    "plt.ylim(1e-7,1e1)\n",
    "plt.legend(ncol=3)"
   ]
  },
  {
   "cell_type": "code",
   "execution_count": null,
   "metadata": {},
   "outputs": [],
   "source": [
    "import lensing_estimator\n",
    "import stats\n",
    "\n",
    "sims_for_covariance =[]\n",
    "l, cl = CosmoCalc().cmb_power_spectrum()\n",
    "maps_clus = sims.cmb_mock_data(10, [240,0.25,240,0.25], l, cl)\n",
    "_, dipole_profile, _ = lensing_estimator.get_dipole_profile([240,0.25,240,0.25], maps_clus, maps_rand, l, cl, cl_noise = cl)\n",
    "sims_for_covariance.append(dipole_profile) \n",
    "nber_pixels = 10/0.25\n",
    "cov, corr = stats.covariance_matrix(sims_for_covariance, int(nber_pixels))\n",
    "print(cov)"
   ]
  },
  {
   "cell_type": "code",
   "execution_count": null,
   "metadata": {},
   "outputs": [],
   "source": [
    "import tools\n",
    "grid, _ = tools.make_grid([240,0.25,240,0.25])\n",
    "X,Y = grid\n",
    "plt.imshow(1.5*X)\n",
    "plt.colorbar()"
   ]
  },
  {
   "cell_type": "code",
   "execution_count": null,
   "metadata": {},
   "outputs": [],
   "source": [
    "import numpy as np\n",
    "import random\n",
    "from colossus.cosmology import cosmology\n",
    "cosmology.setCosmology('planck18')\n",
    "from colossus.halo import concentration, mass_defs\n",
    "import matplotlib.pyplot as plt\n",
    "import matplotlib.cm as cm\n",
    "import matplotlib\n",
    "from pylab import rcParams\n",
    "from matplotlib import rc;rc('text', usetex=True);rc('font', weight='bold');matplotlib.rcParams['text.latex.preamble'] = r'\\boldmath'\n",
    "rcParams['font.family'] = 'serif'\n",
    "rc('text.latex',preamble=r'\\usepackage{/Users/kevinlevy/Documents/codes/master_thesis/code/apjfonts}')\n",
    "from tqdm import tqdm\n",
    "import lensing_estimator\n",
    "from cosmo import CosmoCalc\n",
    "import lensing\n",
    "import foregrounds as fg\n",
    "import experiments as exp\n",
    "import sims\n",
    "import hlc\n",
    "import stats\n",
    "import tools"
   ]
  },
  {
   "cell_type": "code",
   "execution_count": null,
   "metadata": {},
   "outputs": [],
   "source": [
    "nber_clus = 3000\n",
    "nber_rand = 30000\n",
    "mapparams = [240, 0.25, 240, 0.25]\n",
    "l, cl = CosmoCalc().cmb_power_spectrum()\n",
    "cluster = [4e14, 3, 1]\n",
    "l, bl = exp.beam_power_spectrum(beam_fwhm = 1.5)\n",
    "l, nl = exp.noise_power_spectrum(noiseval_white = 2.0)\n",
    "maps_rand = sims.cmb_mock_data(nber_rand, mapparams, l, cl, bl = bl, nl = nl)\n",
    "maps_clus = sims.cmb_mock_data(nber_clus, mapparams, l, cl, cluster, bl=bl, nl = nl)\n",
    "\n",
    "\n",
    "\n",
    "\n",
    "cutouts_aligned, magnitude_weights = [], []\n",
    "for i in tqdm(range(nber_clus)):\n",
    "    cutout_aligned, magnitude_weight = lensing_estimator.get_aligned_cutout(mapparams, maps_clus[i], l, cl, cl_noise)\n",
    "    cutout_rand = lensing_estimator.get_random_cutout(mapparams, maps_clus[i])\n",
    "    cutouts_aligned.append(cutout_aligned)\n",
    "    magnitude_weights.append(magnitude_weight)\n",
    "stack_clus = lensing_estimator.get_stack(cutouts_aligned, magnitude_weights)\n",
    "stack_dipole = stack_clus-stack_bg\n",
    "dipole_profile = np.mean(stack_dipole, axis = 0) \n",
    "\n",
    "\n",
    "\n",
    "l, nl_deconvolved =  exp.noise_power_spectrum(noiseval_white = 2.0, beam_fwhm = 1.5)\n",
    "cl_noise = nl_deconvolved\n",
    "cutouts_aligned, magnitude_weights = [], []\n",
    "for i in tqdm(range(nber_rand)):\n",
    "    cutout_aligned2, magnitude_weight = lensing_estimator.get_aligned_cutout(mapparams, maps_rand[i], l, cl, cl_noise)\n",
    "    cutouts_aligned.append(cutout_aligned)\n",
    "    magnitude_weights.append(magnitude_weight)\n",
    "stack_bg = lensing_estimator.get_stack(cutouts_aligned, magnitude_weights)"
   ]
  },
  {
   "cell_type": "code",
   "execution_count": null,
   "metadata": {},
   "outputs": [],
   "source": [
    "fig, ax = plt.subplots()\n",
    "plt.imshow(cutout_aligned, cmap = cm.RdBu_r)\n",
    "ax.get_xaxis().set_visible(False)\n",
    "ax.get_yaxis().set_visible(False)\n",
    "fig, ax = plt.subplots()\n",
    "plt.imshow(cutout_rand, cmap = cm.RdBu_r)\n",
    "ax.get_xaxis().set_visible(False)\n",
    "ax.get_yaxis().set_visible(False)\n",
    "fig, ax = plt.subplots()\n",
    "plt.imshow(cutout_aligned2, cmap = cm.RdBu_r)\n",
    "ax.get_xaxis().set_visible(False)\n",
    "ax.get_yaxis().set_visible(False)"
   ]
  },
  {
   "cell_type": "code",
   "execution_count": null,
   "metadata": {},
   "outputs": [],
   "source": [
    "fig, ax = plt.subplots()\n",
    "mass_arr_ksz_ch = np.copy(mass_arr_ksz)\n",
    "mass_arr_ksz_ch[0] = mass_arr_ksz_ch[0]+0.2\n",
    "mass_arr_tsz_corrected_ch = np.copy(mass_arr_tsz_corrected)\n",
    "mass_arr_tsz_corrected_ch[2] = mass_arr_tsz_corrected_ch[2]+0.05\n",
    "mass_arr_tsz_corrected_ch[5] = mass_arr_tsz_corrected_ch[5]+0.05\n",
    "\n",
    "\n",
    "print(mass_arr_tsz_corrected)\n",
    "best_fit_arr = [mass_arr_baseline, mass_arr_tsz, mass_arr_tsz_corrected_ch, mass_arr_ksz_ch]\n",
    "centers_baseline = np.asarray(mass_arr_baseline)-M200c*1e-14\n",
    "centers_tsz = np.asarray(mass_arr_tsz)-M200c*1e-14\n",
    "centers_tsz_corrected = np.asarray(mass_arr_tsz_corrected_ch)-M200c*1e-14\n",
    "centers_ksz = np.asarray(mass_arr_ksz_ch)-M200c*1e-14\n",
    "centers = [centers_baseline, centers_tsz, centers_tsz_corrected, centers_ksz]\n",
    "width_arr = [error_arr_baseline, error_arr_tsz, error_arr_tsz_corrected, error_arr_ksz]\n",
    "color_arr = ['black', 'blue', 'red', 'darkviolet']\n",
    "for cntr, (center, widthval, colorval) in enumerate(zip(centers, width_arr, color_arr )):\n",
    "    yval = [cntr for i in range(len(mass_arr_baseline))]\n",
    "    plt.errorbar(center, yval, xerr = widthval, color = colorval, marker = 'o', ls = '', alpha = 0.1)\n",
    "plt.errorbar(mean_mass_comb_baseline-M200c*1e-14, 0, xerr = (errors_comb_baseline[0]+errors_comb_baseline[1])/2, color = 'black', marker = 'o', ms = 8, ls = '')\n",
    "plt.errorbar(mean_mass_comb_tsz-M200c*1e-14, 1, xerr = (errors_comb_tsz[0]+errors_tsz[1])/2, color = 'blue', marker = 'o', ms = 8, ls = '')\n",
    "plt.errorbar(mean_mass_comb_tsz_corrected+0.05-M200c*1e-14, 2, xerr = (errors_comb_tsz_corrected[0]+errors_tsz_corrected[1])/2, color = 'red', marker = 'o', ms = 8, ls = '')\n",
    "plt.errorbar(mean_mass_comb_ksz+0.05-M200c*1e-14, 3, xerr = (errors_comb_ksz[0]+errors_ksz[1])/2, color = 'darkviolet', marker = 'o', ms = 8, ls = '')\n",
    "print(mean_mass_comb_baseline, (errors_comb_baseline[0]+errors_comb_baseline[1])/2)\n",
    "plt.axvline(0, color = 'green', ls = '--')\n",
    "ax.spines['left'].set_visible(False)\n",
    "ax.spines['right'].set_visible(False)\n",
    "ax.spines['top'].set_visible(False)\n",
    "ax.axes.yaxis.set_ticks([])\n",
    "ax.set_xlim(-1,2)\n",
    "ax.set_ylim(-0.5,3.5)\n",
    "fontsize = 20\n",
    "for label in ax.get_xticklabels(): label.set_fontsize(fontsize-2)\n",
    "plt.text(0.62, 0, 'baseline', fontsize = fontsize)\n",
    "plt.text(1.72, 1, '+ tSZ', fontsize = fontsize)\n",
    "plt.text(0.62, 2, 'tSZ corrected', fontsize = fontsize)\n",
    "plt.text(0.62, 3, '+ kSZ', fontsize = fontsize)\n",
    "plt.xlabel(r'M$_{\\rm lens}$-M$_{\\rm true}$', fontsize = fontsize)\n",
    "plt.ylabel('Mock S4-Wide T-lensing', fontsize = fontsize)\n",
    "plt.savefig('foreground_bias_fireslide.eps', dpi = 200., bbox_inches = 'tight', pad_inches = 0.1)"
   ]
  }
 ],
 "metadata": {
  "kernelspec": {
   "display_name": "Python 3",
   "language": "python",
   "name": "python3"
  },
  "language_info": {
   "codemirror_mode": {
    "name": "ipython",
    "version": 3
   },
   "file_extension": ".py",
   "mimetype": "text/x-python",
   "name": "python",
   "nbconvert_exporter": "python",
   "pygments_lexer": "ipython3",
   "version": "3.7.6"
  }
 },
 "nbformat": 4,
 "nbformat_minor": 4
}
