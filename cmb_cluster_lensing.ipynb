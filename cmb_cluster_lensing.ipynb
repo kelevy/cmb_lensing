{
 "cells": [
  {
   "cell_type": "code",
   "execution_count": 2,
   "metadata": {},
   "outputs": [],
   "source": [
    "import numpy as np \n",
    "import matplotlib.pyplot as plt\n",
    "import matplotlib.cm as cm\n",
    "import lensing\n",
    "import tools\n",
    "import dipole_estimator\n",
    "import stats\n",
    "from tqdm import tqdm\n",
    "import cosmo \n",
    "import ilc"
   ]
  },
  {
   "cell_type": "code",
   "execution_count": 3,
   "metadata": {},
   "outputs": [],
   "source": [
    "# setting map parameters: number of pixels in x/y-direction, pixel size in x/y-direction in arcmin\n",
    "mapparams = [240, 0.25, 240, 0.25] \n",
    "\n",
    "\n",
    "# ... \n",
    "nber_clusters = 1500\n",
    "nber_random = 15000\n",
    "nber_cov = 100\n",
    "\n",
    "\n",
    "# ...\n",
    "cluster_uncorr_fg = False\n",
    "cluster = [6e14, 3., 1.]\n",
    "cluster_corr_fg = False\n",
    "noise = False\n",
    "beam_fwhm = 1.4\n",
    "noise_val = 2.0\n",
    "\n",
    "\n",
    "# ...\n",
    "correct_for_tsz = False\n",
    "\n",
    "\n",
    "# ...\n",
    "mass_int = np.arange(4e14, 8e14, 0.2e14)"
   ]
  },
  {
   "cell_type": "code",
   "execution_count": null,
   "metadata": {},
   "outputs": [],
   "source": [
    "covariance_matrix, correlation_matrix = dipole_estimator.covariance(mapparams, nber_clusters, nber_random, nber_cov, beam_fwhm = beam_fwhm, noise_val = noise_val)"
   ]
  },
  {
   "cell_type": "code",
   "execution_count": null,
   "metadata": {},
   "outputs": [],
   "source": [
    "dipole_profile_models = dipole_estimator.get_fit_profiles(mapparams, mass_int, cluster[1], cluster[2], beam_fwhm, noise_val)   "
   ]
  },
  {
   "cell_type": "code",
   "execution_count": null,
   "metadata": {},
   "outputs": [],
   "source": [
    "plt.imshow(covariance_matrix, origin = 'lower')\n",
    "plt.colorbar()"
   ]
  },
  {
   "cell_type": "code",
   "execution_count": null,
   "metadata": {},
   "outputs": [
    {
     "name": "stderr",
     "output_type": "stream",
     "text": [
      "/Users/kevinlevy/Documents/codes/master_thesis/code/lensing.py:106: RuntimeWarning: divide by zero encountered in arctanh\n",
      "  f[x3] = (1/np.sqrt(1-x[x3]**2))*np.arctanh(np.sqrt(1-x[x3]**2))\n",
      "/Users/kevinlevy/Documents/codes/master_thesis/code/lensing.py:41: RuntimeWarning: invalid value encountered in true_divide\n",
      "  alphaX_fft =  1j * lx * 2. *  kappa_fft / el2d**2\n",
      "/Users/kevinlevy/Documents/codes/master_thesis/code/lensing.py:42: RuntimeWarning: invalid value encountered in true_divide\n",
      "  alphaY_fft =  1j * ly * 2. *  kappa_fft  /el2d**2\n",
      "/Users/kevinlevy/Documents/codes/master_thesis/code/dipole_estimator.py:18: RuntimeWarning: invalid value encountered in true_divide\n",
      "  gradient_filter = gradient_filter/gradient_filter\n"
     ]
    }
   ],
   "source": [
    "sims = dipole_estimator.mock_data(mapparams, nber_clusters, cluster = cluster, cluster_corr_fg = cluster_corr_fg, cluster_uncorr_fg = cluster_uncorr_fg, beam_fwhm = beam_fwhm, noise_val = noise_val)\n",
    "lensed_stack = dipole_estimator.get_stack(sims, mapparams, nber_clusters, noise_val) \n",
    "sims = dipole_estimator.mock_data(mapparams, nber_random, cluster = None, cluster_uncorr_fg = cluster_uncorr_fg, cluster_corr_fg = cluster_corr_fg, beam_fwhm = beam_fwhm, noise_val = noise_val)\n",
    "unlensed_stack = dipole_estimator.get_stack(sims, mapparams, nber_random, noise_val)\n",
    "bins, kappa_profile = dipole_estimator.get_dipole_profile(mapparams, lensed_stack, unlensed_stack)\n",
    "#data = bins, kappa_profile, covariance_matrix\n",
    "#params = stats.run_mcmc(data, dipole_profile_models, mass_int)"
   ]
  },
  {
   "cell_type": "code",
   "execution_count": null,
   "metadata": {},
   "outputs": [],
   "source": [
    "extent, grid = tools.make_grid(mapparams)\n",
    "plt.subplots()\n",
    "plt.imshow(lensed_stack, extent = extent)\n",
    "plt.colorbar()\n",
    "plt.title(r'Lensed Stack')\n",
    "plt.subplots()\n",
    "plt.imshow(unlensed_stack, extent = extent)\n",
    "plt.colorbar()\n",
    "plt.title(r'Unlensed Stack')\n",
    "plt.subplots()\n",
    "plt.imshow(lensed_stack-unlensed_stack, extent = extent, origin = 'lower')\n",
    "plt.colorbar()\n",
    "plt.title(r'Dipole Stack')\n",
    "plt.subplots()\n",
    "plt.plot(bins, kappa_profile, ls = '', marker = 'x')"
   ]
  },
  {
   "cell_type": "code",
   "execution_count": null,
   "metadata": {},
   "outputs": [],
   "source": [
    "gauss = np.exp(np.array(params))\n",
    "gauss = gauss/max(gauss)"
   ]
  },
  {
   "cell_type": "code",
   "execution_count": null,
   "metadata": {},
   "outputs": [],
   "source": [
    "import scipy\n",
    "mass_int = np.arange(4, 8, 0.2)\n",
    "def f(x, a,m,s):\n",
    "    return a*np.exp(-((x-m)**2)/(2*s**2))\n",
    "\n",
    "\n",
    "\n",
    "\n",
    "popt, pcov = scipy.optimize.curve_fit(f, mass_int, gauss, p0=[1, 6., 0.2])"
   ]
  },
  {
   "cell_type": "code",
   "execution_count": null,
   "metadata": {},
   "outputs": [],
   "source": [
    "def f2(x,m,s):\n",
    "    return np.exp(-((x-m)**2)/(2*s**2))\n",
    "\n",
    "\n",
    "mass_int2 = np.arange(4, 8, 0.02)\n",
    "\n",
    "\n",
    "plt.plot(mass_int, gauss, color = 'green', ls='',  marker='x', alpha = 0.2)  \n",
    "plt.plot(mass_int2, f2(mass_int2, popt[1],popt[2]), color = 'green', ls='-', alpha = 0.2)\n",
    "\n",
    "plt.axvline(6, color = 'green', ls = '--')\n",
    "plt.xlabel(r'$Mass [M_\\odot]$')\n",
    "plt.ylabel('Normalized Likelihood')"
   ]
  },
  {
   "cell_type": "code",
   "execution_count": null,
   "metadata": {},
   "outputs": [],
   "source": [
    "sample1 = []\n",
    "\n",
    "for k in range(3):\n",
    "    sample = np.random.normal(res1[k][1], res1[k][2], 10000)\n",
    "    sample1.append(sample)"
   ]
  },
  {
   "cell_type": "code",
   "execution_count": null,
   "metadata": {},
   "outputs": [],
   "source": [
    "final1 = []\n",
    "\n",
    "for k in range(3):\n",
    "    final = [np.percentile(sample1[k], [16, 50, 84])]\n",
    "    final1.append(final)\n",
    "\n",
    "print(final1)"
   ]
  },
  {
   "cell_type": "code",
   "execution_count": null,
   "metadata": {},
   "outputs": [],
   "source": [
    "for k in range(10):\n",
    "    plt.errorbar(b1[k], d1[k], yerr = np.sqrt(np.diagonal(cov)), ls = '', marker = 'x', color = 'black', alpha = 0.2)\n",
    "    kappa = lensing.kappa_nfw(mapparams, p1[k], 3, 1, 1100)\n",
    "    alphaX,_ = lensing.alpha_from_kappa(mapparams, kappa)\n",
    "    alphaX = alphaX[194:206, 194:206]\n",
    "    alphaX_cut = []\n",
    "    for i in range(12):\n",
    "        alphaX_cut.append(alphaX[i:i+1, :][0])\n",
    "    alphaX_cut = sum(alphaX_cut)/12\n",
    "    plt.plot(b1[k], alphaX_cut, color = 'red', alpha = 0.2)    \n",
    "kappa = lensing.kappa_nfw(mapparams, 2e14, 3, 1, 1100)\n",
    "alphaX,_ = lensing.alpha_from_kappa(mapparams, kappa)\n",
    "alphaX = alphaX[194:206, 194:206]\n",
    "alphaX_cut = []\n",
    "for i in range(12):\n",
    "    alphaX_cut.append(alphaX[i:i+1, :][0])\n",
    "alphaX_cut = sum(alphaX_cut)/12\n",
    "plt.plot(bins, alphaX_cut, color = 'green', label = 'real')    \n",
    "plt.legend()"
   ]
  },
  {
   "cell_type": "code",
   "execution_count": null,
   "metadata": {},
   "outputs": [],
   "source": []
  }
 ],
 "metadata": {
  "kernelspec": {
   "display_name": "Python 3",
   "language": "python",
   "name": "python3"
  },
  "language_info": {
   "codemirror_mode": {
    "name": "ipython",
    "version": 3
   },
   "file_extension": ".py",
   "mimetype": "text/x-python",
   "name": "python",
   "nbconvert_exporter": "python",
   "pygments_lexer": "ipython3",
   "version": "3.7.6"
  }
 },
 "nbformat": 4,
 "nbformat_minor": 4
}
